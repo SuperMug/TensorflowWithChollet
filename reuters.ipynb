{
 "cells": [
  {
   "cell_type": "code",
   "execution_count": 2,
   "metadata": {},
   "outputs": [
    {
     "name": "stdout",
     "output_type": "stream",
     "text": [
      "[PhysicalDevice(name='/physical_device:GPU:0', device_type='GPU')]\n"
     ]
    }
   ],
   "source": [
    "import tensorflow as tf\n",
    "\n",
    "print(tf.config.list_physical_devices('GPU'))"
   ]
  },
  {
   "cell_type": "code",
   "execution_count": 3,
   "metadata": {},
   "outputs": [],
   "source": [
    "from tensorflow.keras.datasets import reuters\n",
    "(train_data, train_labels), (test_data, test_labels) = reuters.load_data(\n",
    "num_words=10000)"
   ]
  },
  {
   "cell_type": "code",
   "execution_count": 4,
   "metadata": {},
   "outputs": [],
   "source": [
    "import numpy as np\n",
    "\n",
    "def vector_seq(sequences, dimension=10000):\n",
    "    results= np.zeros((len(sequences), dimension))\n",
    "    for i, sequence in enumerate(sequences):\n",
    "        for j in sequence:\n",
    "            results[i, j] = 1\n",
    "    return results\n",
    "\n",
    "x_train = vector_seq(train_data)\n",
    "x_test = vector_seq(test_data)"
   ]
  },
  {
   "cell_type": "code",
   "execution_count": 5,
   "metadata": {},
   "outputs": [],
   "source": [
    "from tensorflow.keras.utils import to_categorical\n",
    "y_train = to_categorical(train_labels)\n",
    "y_test = to_categorical(test_labels)"
   ]
  },
  {
   "cell_type": "code",
   "execution_count": 6,
   "metadata": {},
   "outputs": [
    {
     "name": "stderr",
     "output_type": "stream",
     "text": [
      "2022-10-03 17:48:01.617849: I tensorflow/core/platform/cpu_feature_guard.cc:193] This TensorFlow binary is optimized with oneAPI Deep Neural Network Library (oneDNN) to use the following CPU instructions in performance-critical operations:  FMA\n",
      "To enable them in other operations, rebuild TensorFlow with the appropriate compiler flags.\n",
      "2022-10-03 17:48:02.360150: I tensorflow/core/common_runtime/gpu/gpu_device.cc:1532] Created device /job:localhost/replica:0/task:0/device:GPU:0 with 2633 MB memory:  -> device: 0, name: NVIDIA GeForce GTX 1050 Ti, pci bus id: 0000:01:00.0, compute capability: 6.1\n"
     ]
    }
   ],
   "source": [
    "from tensorflow import keras\n",
    "from tensorflow.keras import layers\n",
    "\n",
    "model = keras.Sequential([\n",
    "    layers.Dense(128, activation=\"relu\"),\n",
    "    layers.Dense(64, activation=\"relu\"),\n",
    "    layers.Dense(46, activation=\"softmax\")\n",
    "])"
   ]
  },
  {
   "cell_type": "code",
   "execution_count": 7,
   "metadata": {},
   "outputs": [],
   "source": [
    "model.compile(optimizer=\"rmsprop\",\n",
    "    loss=\"categorical_crossentropy\",\n",
    "    metrics=[\"accuracy\"])"
   ]
  },
  {
   "cell_type": "code",
   "execution_count": 8,
   "metadata": {},
   "outputs": [],
   "source": [
    "#Set aside some data for validation\n",
    "x_val = x_train[:1000]\n",
    "partial_x_train = x_train[1000:]\n",
    "y_val = y_train[:1000]\n",
    "partial_y_train = y_train[1000:]"
   ]
  },
  {
   "cell_type": "code",
   "execution_count": 9,
   "metadata": {},
   "outputs": [
    {
     "name": "stdout",
     "output_type": "stream",
     "text": [
      "Epoch 1/20\n",
      "16/16 [==============================] - 2s 38ms/step - loss: 2.2287 - accuracy: 0.5639 - val_loss: 1.4573 - val_accuracy: 0.6860\n",
      "Epoch 2/20\n",
      "16/16 [==============================] - 0s 21ms/step - loss: 1.1674 - accuracy: 0.7462 - val_loss: 1.1547 - val_accuracy: 0.7440\n",
      "Epoch 3/20\n",
      "16/16 [==============================] - 0s 23ms/step - loss: 0.8314 - accuracy: 0.8215 - val_loss: 1.0056 - val_accuracy: 0.7850\n",
      "Epoch 4/20\n",
      "16/16 [==============================] - 0s 24ms/step - loss: 0.5967 - accuracy: 0.8775 - val_loss: 0.9165 - val_accuracy: 0.8050\n",
      "Epoch 5/20\n",
      "16/16 [==============================] - 0s 22ms/step - loss: 0.4397 - accuracy: 0.9114 - val_loss: 0.8950 - val_accuracy: 0.8030\n",
      "Epoch 6/20\n",
      "16/16 [==============================] - 0s 23ms/step - loss: 0.3318 - accuracy: 0.9297 - val_loss: 0.9773 - val_accuracy: 0.7960\n",
      "Epoch 7/20\n",
      "16/16 [==============================] - 0s 23ms/step - loss: 0.2621 - accuracy: 0.9429 - val_loss: 0.9121 - val_accuracy: 0.8030\n",
      "Epoch 8/20\n",
      "16/16 [==============================] - 0s 23ms/step - loss: 0.2164 - accuracy: 0.9479 - val_loss: 0.9049 - val_accuracy: 0.8200\n",
      "Epoch 9/20\n",
      "16/16 [==============================] - 0s 21ms/step - loss: 0.1815 - accuracy: 0.9531 - val_loss: 0.9057 - val_accuracy: 0.8130\n",
      "Epoch 10/20\n",
      "16/16 [==============================] - 0s 22ms/step - loss: 0.1697 - accuracy: 0.9519 - val_loss: 0.9291 - val_accuracy: 0.8130\n",
      "Epoch 11/20\n",
      "16/16 [==============================] - 0s 23ms/step - loss: 0.1486 - accuracy: 0.9557 - val_loss: 0.9889 - val_accuracy: 0.8060\n",
      "Epoch 12/20\n",
      "16/16 [==============================] - 0s 22ms/step - loss: 0.1431 - accuracy: 0.9565 - val_loss: 1.0052 - val_accuracy: 0.7990\n",
      "Epoch 13/20\n",
      "16/16 [==============================] - 0s 23ms/step - loss: 0.1318 - accuracy: 0.9545 - val_loss: 1.0486 - val_accuracy: 0.8090\n",
      "Epoch 14/20\n",
      "16/16 [==============================] - 0s 22ms/step - loss: 0.1274 - accuracy: 0.9575 - val_loss: 1.0868 - val_accuracy: 0.7880\n",
      "Epoch 15/20\n",
      "16/16 [==============================] - 0s 22ms/step - loss: 0.1210 - accuracy: 0.9562 - val_loss: 1.1281 - val_accuracy: 0.7930\n",
      "Epoch 16/20\n",
      "16/16 [==============================] - 0s 23ms/step - loss: 0.1193 - accuracy: 0.9568 - val_loss: 1.1176 - val_accuracy: 0.8010\n",
      "Epoch 17/20\n",
      "16/16 [==============================] - 0s 23ms/step - loss: 0.1165 - accuracy: 0.9572 - val_loss: 1.1443 - val_accuracy: 0.7880\n",
      "Epoch 18/20\n",
      "16/16 [==============================] - 0s 24ms/step - loss: 0.1103 - accuracy: 0.9564 - val_loss: 1.0519 - val_accuracy: 0.8070\n",
      "Epoch 19/20\n",
      "16/16 [==============================] - 0s 22ms/step - loss: 0.1137 - accuracy: 0.9567 - val_loss: 1.1280 - val_accuracy: 0.7960\n",
      "Epoch 20/20\n",
      "16/16 [==============================] - 0s 22ms/step - loss: 0.1061 - accuracy: 0.9565 - val_loss: 1.1119 - val_accuracy: 0.8030\n"
     ]
    }
   ],
   "source": [
    "history = model.fit(\n",
    "    partial_x_train,\n",
    "    partial_y_train,\n",
    "    epochs=20,\n",
    "    batch_size=512,\n",
    "    validation_data=(x_val, y_val)\n",
    ")"
   ]
  },
  {
   "cell_type": "code",
   "execution_count": 10,
   "metadata": {},
   "outputs": [
    {
     "name": "stdout",
     "output_type": "stream",
     "text": [
      "71/71 [==============================] - 0s 4ms/step - loss: 1.2701 - accuracy: 0.7867\n"
     ]
    },
    {
     "data": {
      "text/plain": [
       "[1.2701181173324585, 0.7867319583892822]"
      ]
     },
     "execution_count": 10,
     "metadata": {},
     "output_type": "execute_result"
    }
   ],
   "source": [
    "results = model.evaluate(x_test, y_test)\n",
    "results"
   ]
  },
  {
   "cell_type": "code",
   "execution_count": 11,
   "metadata": {},
   "outputs": [
    {
     "data": {
      "image/png": "[encoded data removed]",
      "text/plain": [
       "<Figure size 432x288 with 1 Axes>"
      ]
     },
     "metadata": {
      "needs_background": "light"
     },
     "output_type": "display_data"
    }
   ],
   "source": [
    "loss = history.history[\"loss\"]\n",
    "val_loss = history.history[\"val_loss\"]\n",
    "accuracy = history.history[\"accuracy\"]\n",
    "val_accuracy = history.history[\"val_accuracy\"]\n",
    "\n",
    "epochs = range(1, len(loss) +1 )\n",
    "\n",
    "import matplotlib.pyplot as plt\n",
    "\n",
    "plt.plot(epochs, loss, \"bo\", label=\"Training loss\")\n",
    "plt.plot(epochs, val_loss, \"b\", label=\"Validation loss\")\n",
    "plt.title(\"Training and validation loss\")\n",
    "plt.xlabel(\"Epochs\")\n",
    "plt.ylabel(\"Loss\")\n",
    "plt.legend()\n",
    "plt.show()"
   ]
  },
  {
   "cell_type": "code",
   "execution_count": 12,
   "metadata": {},
   "outputs": [
    {
     "data": {
      "image/png": "[encoded data removed]",
      "text/plain": [
       "<Figure size 432x288 with 1 Axes>"
      ]
     },
     "metadata": {
      "needs_background": "light"
     },
     "output_type": "display_data"
    }
   ],
   "source": [
    "plt.clf()\n",
    "acc = history.history[\"accuracy\"]\n",
    "val_acc = history.history[\"val_accuracy\"]\n",
    "plt.plot(epochs, acc, \"bo\", label=\"Training accuracy\")\n",
    "plt.plot(epochs, val_acc, \"b\", label=\"Validation accuracy\")\n",
    "plt.title(\"Training and validation accuracy\")\n",
    "plt.xlabel(\"Epochs\")\n",
    "plt.ylabel(\"Accuracy\")\n",
    "plt.legend()\n",
    "plt.show()"
   ]
  },
  {
   "cell_type": "markdown",
   "metadata": {},
   "source": [
    "Notice overfitting after nine epochs"
   ]
  },
  {
   "cell_type": "code",
   "execution_count": 13,
   "metadata": {},
   "outputs": [
    {
     "name": "stdout",
     "output_type": "stream",
     "text": [
      "Epoch 1/9\n",
      "18/18 [==============================] - 1s 17ms/step - loss: 2.2011 - accuracy: 0.5246\n",
      "Epoch 2/9\n",
      "18/18 [==============================] - 0s 18ms/step - loss: 1.1794 - accuracy: 0.7417\n",
      "Epoch 3/9\n",
      "18/18 [==============================] - 0s 19ms/step - loss: 0.8438 - accuracy: 0.8136\n",
      "Epoch 4/9\n",
      "18/18 [==============================] - 0s 19ms/step - loss: 0.6058 - accuracy: 0.8685\n",
      "Epoch 5/9\n",
      "18/18 [==============================] - 0s 20ms/step - loss: 0.4399 - accuracy: 0.9040\n",
      "Epoch 6/9\n",
      "18/18 [==============================] - 0s 19ms/step - loss: 0.3537 - accuracy: 0.9193\n",
      "Epoch 7/9\n",
      "18/18 [==============================] - 0s 18ms/step - loss: 0.2569 - accuracy: 0.9426\n",
      "Epoch 8/9\n",
      "18/18 [==============================] - 0s 18ms/step - loss: 0.2170 - accuracy: 0.9459\n",
      "Epoch 9/9\n",
      "18/18 [==============================] - 0s 18ms/step - loss: 0.1871 - accuracy: 0.9521\n",
      "71/71 [==============================] - 0s 4ms/step - loss: 1.0921 - accuracy: 0.7970\n"
     ]
    }
   ],
   "source": [
    "#Train on only nine epochs\n",
    "model = keras.Sequential([\n",
    "    layers.Dense(128, activation=\"relu\"),\n",
    "    layers.Dense(128, activation=\"relu\"),\n",
    "    layers.Dense(128, activation=\"relu\"),\n",
    "    layers.Dense(46, activation=\"softmax\")\n",
    "    ])\n",
    "\n",
    "model.compile(optimizer=\"rmsprop\",\n",
    "    loss=\"categorical_crossentropy\",\n",
    "    metrics=[\"accuracy\"])\n",
    "\n",
    "model.fit(x_train,\n",
    "    y_train,\n",
    "    epochs=9,\n",
    "    batch_size=512)\n",
    "    \n",
    "results = model.evaluate(x_test, y_test)"
   ]
  },
  {
   "cell_type": "code",
   "execution_count": 14,
   "metadata": {},
   "outputs": [
    {
     "data": {
      "image/png": "[encoded data removed]",
      "text/plain": [
       "<Figure size 432x288 with 1 Axes>"
      ]
     },
     "metadata": {
      "needs_background": "light"
     },
     "output_type": "display_data"
    }
   ],
   "source": [
    "epochs = range(1, len(loss) +1 )\n",
    "\n",
    "plt.clf()\n",
    "acc = history.history[\"accuracy\"]\n",
    "val_acc = history.history[\"val_accuracy\"]\n",
    "plt.plot(epochs, val_loss, \"r\", label=\"validation accuracy\")\n",
    "plt.plot(epochs, val_acc, \"b\", label=\"Validation accuracy\")\n",
    "plt.title(\"Training and validation accuracy\")\n",
    "plt.xlabel(\"Epochs\")\n",
    "plt.ylabel(\"Accuracy\")\n",
    "plt.legend()\n",
    "plt.show()"
   ]
  },
  {
   "cell_type": "code",
   "execution_count": 15,
   "metadata": {},
   "outputs": [
    {
     "name": "stdout",
     "output_type": "stream",
     "text": [
      "71/71 [==============================] - 0s 3ms/step\n"
     ]
    },
    {
     "data": {
      "text/plain": [
       "array([[3.7756294e-05, 3.1200136e-06, 4.2484722e-09, ..., 1.8113897e-06,\n",
       "        6.8040798e-08, 4.0482508e-08],\n",
       "       [2.8204029e-02, 6.5549451e-05, 1.9851635e-04, ..., 2.1616226e-05,\n",
       "        2.2736645e-08, 1.0343058e-03],\n",
       "       [3.9788917e-02, 5.3157222e-01, 2.7752807e-02, ..., 1.6566139e-04,\n",
       "        1.0521777e-04, 3.4674892e-04],\n",
       "       ...,\n",
       "       [2.3690491e-06, 6.5108325e-06, 1.9586302e-07, ..., 2.6891453e-06,\n",
       "        3.9415468e-06, 2.7264024e-08],\n",
       "       [6.3327416e-03, 3.1960938e-02, 9.4309752e-04, ..., 9.7300770e-04,\n",
       "        3.6444218e-04, 2.3504216e-04],\n",
       "       [2.9729088e-04, 6.1224657e-01, 1.4576927e-03, ..., 1.2552830e-04,\n",
       "        7.2993775e-05, 7.9116035e-07]], dtype=float32)"
      ]
     },
     "execution_count": 15,
     "metadata": {},
     "output_type": "execute_result"
    }
   ],
   "source": [
    "prediction = model.predict(x_test)\n",
    "prediction"
   ]
  }
 ],
 "metadata": {
  "kernelspec": {
   "display_name": "Python 3.8.10 64-bit",
   "language": "python",
   "name": "python3"
  },
  "language_info": {
   "codemirror_mode": {
    "name": "ipython",
    "version": 3
   },
   "file_extension": ".py",
   "mimetype": "text/x-python",
   "name": "python",
   "nbconvert_exporter": "python",
   "pygments_lexer": "ipython3",
   "version": "3.8.10"
  },
  "orig_nbformat": 4,
  "vscode": {
   "interpreter": {
    "hash": "916dbcbb3f70747c44a77c7bcd40155683ae19c65e1c03b4aa3499c5328201f1"
   }
  }
 },
 "nbformat": 4,
 "nbformat_minor": 2
}
